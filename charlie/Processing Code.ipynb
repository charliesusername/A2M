{
 "cells": [
  {
   "cell_type": "code",
   "execution_count": 10,
   "metadata": {},
   "outputs": [],
   "source": [
    "import pandas as pd\n",
    "import numpy as np\n",
    "%matplotlib inline"
   ]
  },
  {
   "cell_type": "code",
   "execution_count": 4,
   "metadata": {},
   "outputs": [],
   "source": [
    "df = pd.read_csv('clean_data.csv')"
   ]
  },
  {
   "cell_type": "code",
   "execution_count": 12,
   "metadata": {},
   "outputs": [
    {
     "data": {
      "text/html": [
       "<div>\n",
       "<style scoped>\n",
       "    .dataframe tbody tr th:only-of-type {\n",
       "        vertical-align: middle;\n",
       "    }\n",
       "\n",
       "    .dataframe tbody tr th {\n",
       "        vertical-align: top;\n",
       "    }\n",
       "\n",
       "    .dataframe thead th {\n",
       "        text-align: right;\n",
       "    }\n",
       "</style>\n",
       "<table border=\"1\" class=\"dataframe\">\n",
       "  <thead>\n",
       "    <tr style=\"text-align: right;\">\n",
       "      <th></th>\n",
       "      <th>Unnamed: 0</th>\n",
       "      <th>Row_ID</th>\n",
       "      <th>Quantity</th>\n",
       "      <th>Discount</th>\n",
       "      <th>Shipping_Cost</th>\n",
       "      <th>Sales</th>\n",
       "      <th>Profit</th>\n",
       "      <th>Order_Priority_Critical</th>\n",
       "      <th>Order_Priority_Medium</th>\n",
       "      <th>Order_Priority_Low</th>\n",
       "    </tr>\n",
       "  </thead>\n",
       "  <tbody>\n",
       "    <tr>\n",
       "      <th>0</th>\n",
       "      <td>1</td>\n",
       "      <td>40098</td>\n",
       "      <td>2</td>\n",
       "      <td>0.0</td>\n",
       "      <td>40.77</td>\n",
       "      <td>221.98</td>\n",
       "      <td>62.15</td>\n",
       "      <td>0</td>\n",
       "      <td>0</td>\n",
       "      <td>0</td>\n",
       "    </tr>\n",
       "    <tr>\n",
       "      <th>1</th>\n",
       "      <td>2</td>\n",
       "      <td>26341</td>\n",
       "      <td>9</td>\n",
       "      <td>0.1</td>\n",
       "      <td>923.63</td>\n",
       "      <td>3709.40</td>\n",
       "      <td>-288.77</td>\n",
       "      <td>1</td>\n",
       "      <td>0</td>\n",
       "      <td>0</td>\n",
       "    </tr>\n",
       "    <tr>\n",
       "      <th>2</th>\n",
       "      <td>3</td>\n",
       "      <td>25330</td>\n",
       "      <td>9</td>\n",
       "      <td>0.1</td>\n",
       "      <td>915.49</td>\n",
       "      <td>5175.17</td>\n",
       "      <td>919.97</td>\n",
       "      <td>0</td>\n",
       "      <td>1</td>\n",
       "      <td>0</td>\n",
       "    </tr>\n",
       "    <tr>\n",
       "      <th>3</th>\n",
       "      <td>4</td>\n",
       "      <td>13524</td>\n",
       "      <td>5</td>\n",
       "      <td>0.1</td>\n",
       "      <td>910.16</td>\n",
       "      <td>2892.51</td>\n",
       "      <td>-96.54</td>\n",
       "      <td>0</td>\n",
       "      <td>1</td>\n",
       "      <td>0</td>\n",
       "    </tr>\n",
       "    <tr>\n",
       "      <th>4</th>\n",
       "      <td>5</td>\n",
       "      <td>47221</td>\n",
       "      <td>8</td>\n",
       "      <td>0.0</td>\n",
       "      <td>903.04</td>\n",
       "      <td>2832.96</td>\n",
       "      <td>311.52</td>\n",
       "      <td>1</td>\n",
       "      <td>0</td>\n",
       "      <td>0</td>\n",
       "    </tr>\n",
       "  </tbody>\n",
       "</table>\n",
       "</div>"
      ],
      "text/plain": [
       "   Unnamed: 0  Row_ID  Quantity  Discount  Shipping_Cost    Sales  Profit  \\\n",
       "0           1   40098         2       0.0          40.77   221.98   62.15   \n",
       "1           2   26341         9       0.1         923.63  3709.40 -288.77   \n",
       "2           3   25330         9       0.1         915.49  5175.17  919.97   \n",
       "3           4   13524         5       0.1         910.16  2892.51  -96.54   \n",
       "4           5   47221         8       0.0         903.04  2832.96  311.52   \n",
       "\n",
       "   Order_Priority_Critical  Order_Priority_Medium  Order_Priority_Low  \n",
       "0                        0                      0                   0  \n",
       "1                        1                      0                   0  \n",
       "2                        0                      1                   0  \n",
       "3                        0                      1                   0  \n",
       "4                        1                      0                   0  "
      ]
     },
     "execution_count": 12,
     "metadata": {},
     "output_type": "execute_result"
    }
   ],
   "source": [
    "df.head()"
   ]
  }
 ],
 "metadata": {
  "kernelspec": {
   "display_name": "Python 3",
   "language": "python",
   "name": "python3"
  },
  "language_info": {
   "codemirror_mode": {
    "name": "ipython",
    "version": 3
   },
   "file_extension": ".py",
   "mimetype": "text/x-python",
   "name": "python",
   "nbconvert_exporter": "python",
   "pygments_lexer": "ipython3",
   "version": "3.7.3"
  }
 },
 "nbformat": 4,
 "nbformat_minor": 2
}
